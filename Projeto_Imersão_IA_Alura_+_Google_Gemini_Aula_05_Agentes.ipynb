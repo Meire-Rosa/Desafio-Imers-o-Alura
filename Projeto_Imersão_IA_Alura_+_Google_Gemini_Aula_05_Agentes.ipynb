{
  "nbformat": 4,
  "nbformat_minor": 0,
  "metadata": {
    "colab": {
      "provenance": [],
      "include_colab_link": true
    },
    "kernelspec": {
      "name": "python3",
      "display_name": "Python 3"
    },
    "language_info": {
      "name": "python"
    }
  },
  "cells": [
    {
      "cell_type": "markdown",
      "metadata": {
        "id": "view-in-github",
        "colab_type": "text"
      },
      "source": [
        "<a href=\"https://colab.research.google.com/github/Meire-Rosa/Desafio-Imers-o-Alura/blob/main/Projeto_Imers%C3%A3o_IA_Alura_%2B_Google_Gemini_Aula_05_Agentes.ipynb\" target=\"_parent\"><img src=\"https://colab.research.google.com/assets/colab-badge.svg\" alt=\"Open In Colab\"/></a>"
      ]
    },
    {
      "cell_type": "code",
      "source": [
        "%pip -q install google-genai"
      ],
      "metadata": {
        "id": "UCCbECexLk_h"
      },
      "execution_count": 1,
      "outputs": []
    },
    {
      "cell_type": "code",
      "source": [
        "# Configura a API Key do Google Gemini\n",
        "\n",
        "import os\n",
        "from google.colab import userdata\n",
        "\n",
        "os.environ[\"GOOGLE_API_KEY\"] = userdata.get('GOOGLE_API_KEY')"
      ],
      "metadata": {
        "id": "NfCqHo1tLk8P"
      },
      "execution_count": 2,
      "outputs": []
    },
    {
      "cell_type": "code",
      "source": [
        "# Configura o cliente da SDK do Gemini\n",
        "\n",
        "from google import genai\n",
        "\n",
        "client = genai.Client()\n",
        "\n",
        "MODEL_ID = \"gemini-2.0-flash\"\n",
        "\n",
        "config = {\"tools\": [{\"google_search\": {}}]}"
      ],
      "metadata": {
        "id": "bV4w0H5TLk5g"
      },
      "execution_count": 6,
      "outputs": []
    },
    {
      #"cell_type": "code",
      #"source": [
       # "# Exibe a busca\n",
       # "print(f\"Busca realizada: {response.candidates[0].grounding_metadata.web_search_queries}\")\n",
       # "# Exibe as URLs nas quais ele se baseou\n",
       # "print(f\"Páginas utilizadas na resposta: {', '.join([site.web.title for site in response.candidates[0].grounding_metadata.grounding_chunks])}\")\n",
       # "print()\n",
       # "display(HTML(response.candidates[0].grounding_metadata.search_entry_point.rendered_content))"
      #],
      #"metadata": {
       # "id": "xHSNlTd84heJ",
        #"colab": {
         # "base_uri": "https://localhost:8080/",
         # "height": 117
        },
        "outputId": "11502ec0-b6ec-4a9f-f229-3da9b52bd75a"
      },
      "execution_count": 7,
      "outputs": [
        {
          "output_type": "stream",
          "name": "stdout",
          "text": [
            "Busca realizada: ['Próxima Imersão IA com Google Gemini da Alura', 'Alura Imersão IA com Google Gemini']\n",
            "Páginas utilizadas na resposta: alura.com.br, tecmundo.com.br, starten.tech\n",
            "\n"
          ]
        },
        {
          "output_type": "display_data",
          "data": {
            "text/plain": [
              "<IPython.core.display.HTML object>"
            ],
            "text/html": [
              "<style>\n",
              ".container {\n",
              "  align-items: center;\n",
              "  border-radius: 8px;\n",
              "  display: flex;\n",
              "  font-family: Google Sans, Roboto, sans-serif;\n",
              "  font-size: 14px;\n",
              "  line-height: 20px;\n",
              "  padding: 8px 12px;\n",
              "}\n",
              ".chip {\n",
              "  display: inline-block;\n",
              "  border: solid 1px;\n",
              "  border-radius: 16px;\n",
              "  min-width: 14px;\n",
              "  padding: 5px 16px;\n",
              "  text-align: center;\n",
              "  user-select: none;\n",
              "  margin: 0 8px;\n",
              "  -webkit-tap-highlight-color: transparent;\n",
              "}\n",
              ".carousel {\n",
              "  overflow: auto;\n",
              "  scrollbar-width: none;\n",
              "  white-space: nowrap;\n",
              "  margin-right: -12px;\n",
              "}\n",
              ".headline {\n",
              "  display: flex;\n",
              "  margin-right: 4px;\n",
              "}\n",
              ".gradient-container {\n",
              "  position: relative;\n",
              "}\n",
              ".gradient {\n",
              "  position: absolute;\n",
              "  transform: translate(3px, -9px);\n",
              "  height: 36px;\n",
              "  width: 9px;\n",
              "}\n",
              "@media (prefers-color-scheme: light) {\n",
              "  .container {\n",
              "    background-color: #fafafa;\n",
              "    box-shadow: 0 0 0 1px #0000000f;\n",
              "  }\n",
              "  .headline-label {\n",
              "    color: #1f1f1f;\n",
              "  }\n",
              "  .chip {\n",
              "    background-color: #ffffff;\n",
              "    border-color: #d2d2d2;\n",
              "    color: #5e5e5e;\n",
              "    text-decoration: none;\n",
              "  }\n",
              "  .chip:hover {\n",
              "    background-color: #f2f2f2;\n",
              "  }\n",
              "  .chip:focus {\n",
              "    background-color: #f2f2f2;\n",
              "  }\n",
              "  .chip:active {\n",
              "    background-color: #d8d8d8;\n",
              "    border-color: #b6b6b6;\n",
              "  }\n",
              "  .logo-dark {\n",
              "    display: none;\n",
              "  }\n",
              "  .gradient {\n",
              "    background: linear-gradient(90deg, #fafafa 15%, #fafafa00 100%);\n",
              "  }\n",
              "}\n",
              "@media (prefers-color-scheme: dark) {\n",
              "  .container {\n",
              "    background-color: #1f1f1f;\n",
              "    box-shadow: 0 0 0 1px #ffffff26;\n",
              "  }\n",
              "  .headline-label {\n",
              "    color: #fff;\n",
              "  }\n",
              "  .chip {\n",
              "    background-color: #2c2c2c;\n",
              "    border-color: #3c4043;\n",
              "    color: #fff;\n",
              "    text-decoration: none;\n",
              "  }\n",
              "  .chip:hover {\n",
              "    background-color: #353536;\n",
              "  }\n",
              "  .chip:focus {\n",
              "    background-color: #353536;\n",
              "  }\n",
              "  .chip:active {\n",
              "    background-color: #464849;\n",
              "    border-color: #53575b;\n",
              "  }\n",
              "  .logo-light {\n",
              "    display: none;\n",
              "  }\n",
              "  .gradient {\n",
              "    background: linear-gradient(90deg, #1f1f1f 15%, #1f1f1f00 100%);\n",
              "  }\n",
              "}\n",
              "</style>\n",
              "<div class=\"container\">\n",
              "  <div class=\"headline\">\n",
              "    <svg class=\"logo-light\" width=\"18\" height=\"18\" viewBox=\"9 9 35 35\" fill=\"none\" xmlns=\"http://www.w3.org/2000/svg\">\n",
              "      <path fill-rule=\"evenodd\" clip-rule=\"evenodd\" d=\"M42.8622 27.0064C42.8622 25.7839 42.7525 24.6084 42.5487 23.4799H26.3109V30.1568H35.5897C35.1821 32.3041 33.9596 34.1222 32.1258 35.3448V39.6864H37.7213C40.9814 36.677 42.8622 32.2571 42.8622 27.0064V27.0064Z\" fill=\"#4285F4\"/>\n",
              "      <path fill-rule=\"evenodd\" clip-rule=\"evenodd\" d=\"M26.3109 43.8555C30.9659 43.8555 34.8687 42.3195 37.7213 39.6863L32.1258 35.3447C30.5898 36.3792 28.6306 37.0061 26.3109 37.0061C21.8282 37.0061 18.0195 33.9811 16.6559 29.906H10.9194V34.3573C13.7563 39.9841 19.5712 43.8555 26.3109 43.8555V43.8555Z\" fill=\"#34A853\"/>\n",
              "      <path fill-rule=\"evenodd\" clip-rule=\"evenodd\" d=\"M16.6559 29.8904C16.3111 28.8559 16.1074 27.7588 16.1074 26.6146C16.1074 25.4704 16.3111 24.3733 16.6559 23.3388V18.8875H10.9194C9.74388 21.2072 9.06992 23.8247 9.06992 26.6146C9.06992 29.4045 9.74388 32.022 10.9194 34.3417L15.3864 30.8621L16.6559 29.8904V29.8904Z\" fill=\"#FBBC05\"/>\n",
              "      <path fill-rule=\"evenodd\" clip-rule=\"evenodd\" d=\"M26.3109 16.2386C28.85 16.2386 31.107 17.1164 32.9095 18.8091L37.8466 13.8719C34.853 11.082 30.9659 9.3736 26.3109 9.3736C19.5712 9.3736 13.7563 13.245 10.9194 18.8875L16.6559 23.3388C18.0195 19.2636 21.8282 16.2386 26.3109 16.2386V16.2386Z\" fill=\"#EA4335\"/>\n",
              "    </svg>\n",
              "    <svg class=\"logo-dark\" width=\"18\" height=\"18\" viewBox=\"0 0 48 48\" xmlns=\"http://www.w3.org/2000/svg\">\n",
              "      <circle cx=\"24\" cy=\"23\" fill=\"#FFF\" r=\"22\"/>\n",
              "      <path d=\"M33.76 34.26c2.75-2.56 4.49-6.37 4.49-11.26 0-.89-.08-1.84-.29-3H24.01v5.99h8.03c-.4 2.02-1.5 3.56-3.07 4.56v.75l3.91 2.97h.88z\" fill=\"#4285F4\"/>\n",
              "      <path d=\"M15.58 25.77A8.845 8.845 0 0 0 24 31.86c1.92 0 3.62-.46 4.97-1.31l4.79 3.71C31.14 36.7 27.65 38 24 38c-5.93 0-11.01-3.4-13.45-8.36l.17-1.01 4.06-2.85h.8z\" fill=\"#34A853\"/>\n",
              "      <path d=\"M15.59 20.21a8.864 8.864 0 0 0 0 5.58l-5.03 3.86c-.98-2-1.53-4.25-1.53-6.64 0-2.39.55-4.64 1.53-6.64l1-.22 3.81 2.98.22 1.08z\" fill=\"#FBBC05\"/>\n",
              "      <path d=\"M24 14.14c2.11 0 4.02.75 5.52 1.98l4.36-4.36C31.22 9.43 27.81 8 24 8c-5.93 0-11.01 3.4-13.45 8.36l5.03 3.85A8.86 8.86 0 0 1 24 14.14z\" fill=\"#EA4335\"/>\n",
              "    </svg>\n",
              "    <div class=\"gradient-container\"><div class=\"gradient\"></div></div>\n",
              "  </div>\n",
              "  <div class=\"carousel\">\n",
              "    <a class=\"chip\" href=\"https://vertexaisearch.cloud.google.com/grounding-api-redirect/AbF9wXEOmjC6VEtEA8YF-qN60yQpS-KrawlHS6dwggC825VzZcRPeuy1at0-ZEThYXDPmwWIHHuK5r3mOckgWv3CeE0ccMzTUZ5hS45wnqDJ-ClA_iITa3JTY8gJM4S9VPD1eiRI7B7_zSrPC5HX7ZbGNexN4LiGQpDAGJyMwrUBp7Pi4-IMDA4D6ErOYJn7RhJmRuaJjv92x2Kj5caZYV9OXZ2tt9DTOSSzysxWvVozNS53dUd4XtoLCy5DoSs=\">Próxima Imersão IA com Google Gemini da Alura</a>\n",
              "    <a class=\"chip\" href=\"https://vertexaisearch.cloud.google.com/grounding-api-redirect/AbF9wXGF08XOvwR9VP2JqNWRFbRPXtZqnCsD3wwJb6CvSE-pDAmR1ZHUi8_OvbsmQpZMZS_q1nBrwbxgAe818WuPcGO5L7EhlL5_aQj1Cxa5EGIVPGvAmiCt84WSRNkTxfYg16-8Xaux-8QqnuHTloXbZeIBHNAXkceTORJzgpTVBHwx89kYKmT8n2htpY2rSXeJKt51CqGijFpvnNHtp5HWQ5GEcGIZC70L64AS\">Alura Imersão IA com Google Gemini</a>\n",
              "  </div>\n",
              "</div>\n"
            ]
          },
          "metadata": {}
        }
      ]
    },
    {
      "cell_type": "code",
      "source": [
        "# Instalar Framework ADK de agentes do Google ################################################\n",
        "\n",
        "! pip install -q google-adk"
      ],
      "metadata": {
        "id": "hvZ3UnPI4jhJ",
        "colab": {
          "base_uri": "https://localhost:8080/"
        },
        "outputId": "f2f8e7f4-85d2-45a0-882b-16cb0016cb09"
      },
      "execution_count": 8,
      "outputs": [
        {
          "output_type": "stream",
          "name": "stdout",
          "text": [
            "\u001b[?25l   \u001b[90m━━━━━━━━━━━━━━━━━━━━━━━━━━━━━━━━━━━━━━━━\u001b[0m \u001b[32m0.0/1.2 MB\u001b[0m \u001b[31m?\u001b[0m eta \u001b[36m-:--:--\u001b[0m\r\u001b[2K   \u001b[91m━━━━━━━━━━━━━━━━━━━━━━━━━━━━━━━━━━━━━━━\u001b[0m\u001b[91m╸\u001b[0m \u001b[32m1.2/1.2 MB\u001b[0m \u001b[31m57.6 MB/s\u001b[0m eta \u001b[36m0:00:01\u001b[0m\r\u001b[2K   \u001b[90m━━━━━━━━━━━━━━━━━━━━━━━━━━━━━━━━━━━━━━━━\u001b[0m \u001b[32m1.2/1.2 MB\u001b[0m \u001b[31m30.4 MB/s\u001b[0m eta \u001b[36m0:00:00\u001b[0m\n",
            "\u001b[?25h\u001b[?25l   \u001b[90m━━━━━━━━━━━━━━━━━━━━━━━━━━━━━━━━━━━━━━━━\u001b[0m \u001b[32m0.0/232.1 kB\u001b[0m \u001b[31m?\u001b[0m eta \u001b[36m-:--:--\u001b[0m\r\u001b[2K   \u001b[90m━━━━━━━━━━━━━━━━━━━━━━━━━━━━━━━━━━━━━━━━\u001b[0m \u001b[32m232.1/232.1 kB\u001b[0m \u001b[31m14.9 MB/s\u001b[0m eta \u001b[36m0:00:00\u001b[0m\n",
            "\u001b[2K   \u001b[90m━━━━━━━━━━━━━━━━━━━━━━━━━━━━━━━━━━━━━━━━\u001b[0m \u001b[32m95.2/95.2 kB\u001b[0m \u001b[31m7.5 MB/s\u001b[0m eta \u001b[36m0:00:00\u001b[0m\n",
            "\u001b[2K   \u001b[90m━━━━━━━━━━━━━━━━━━━━━━━━━━━━━━━━━━━━━━━━\u001b[0m \u001b[32m217.1/217.1 kB\u001b[0m \u001b[31m15.0 MB/s\u001b[0m eta \u001b[36m0:00:00\u001b[0m\n",
            "\u001b[2K   \u001b[90m━━━━━━━━━━━━━━━━━━━━━━━━━━━━━━━━━━━━━━━━\u001b[0m \u001b[32m334.1/334.1 kB\u001b[0m \u001b[31m24.0 MB/s\u001b[0m eta \u001b[36m0:00:00\u001b[0m\n",
            "\u001b[2K   \u001b[90m━━━━━━━━━━━━━━━━━━━━━━━━━━━━━━━━━━━━━━━━\u001b[0m \u001b[32m125.1/125.1 kB\u001b[0m \u001b[31m9.6 MB/s\u001b[0m eta \u001b[36m0:00:00\u001b[0m\n",
            "\u001b[2K   \u001b[90m━━━━━━━━━━━━━━━━━━━━━━━━━━━━━━━━━━━━━━━━\u001b[0m \u001b[32m65.8/65.8 kB\u001b[0m \u001b[31m5.2 MB/s\u001b[0m eta \u001b[36m0:00:00\u001b[0m\n",
            "\u001b[2K   \u001b[90m━━━━━━━━━━━━━━━━━━━━━━━━━━━━━━━━━━━━━━━━\u001b[0m \u001b[32m119.0/119.0 kB\u001b[0m \u001b[31m9.3 MB/s\u001b[0m eta \u001b[36m0:00:00\u001b[0m\n",
            "\u001b[2K   \u001b[90m━━━━━━━━━━━━━━━━━━━━━━━━━━━━━━━━━━━━━━━━\u001b[0m \u001b[32m194.9/194.9 kB\u001b[0m \u001b[31m12.6 MB/s\u001b[0m eta \u001b[36m0:00:00\u001b[0m\n",
            "\u001b[2K   \u001b[90m━━━━━━━━━━━━━━━━━━━━━━━━━━━━━━━━━━━━━━━━\u001b[0m \u001b[32m62.5/62.5 kB\u001b[0m \u001b[31m4.7 MB/s\u001b[0m eta \u001b[36m0:00:00\u001b[0m\n",
            "\u001b[2K   \u001b[90m━━━━━━━━━━━━━━━━━━━━━━━━━━━━━━━━━━━━━━━━\u001b[0m \u001b[32m103.3/103.3 kB\u001b[0m \u001b[31m7.8 MB/s\u001b[0m eta \u001b[36m0:00:00\u001b[0m\n",
            "\u001b[2K   \u001b[90m━━━━━━━━━━━━━━━━━━━━━━━━━━━━━━━━━━━━━━━━\u001b[0m \u001b[32m44.4/44.4 kB\u001b[0m \u001b[31m3.3 MB/s\u001b[0m eta \u001b[36m0:00:00\u001b[0m\n",
            "\u001b[2K   \u001b[90m━━━━━━━━━━━━━━━━━━━━━━━━━━━━━━━━━━━━━━━━\u001b[0m \u001b[32m72.0/72.0 kB\u001b[0m \u001b[31m6.2 MB/s\u001b[0m eta \u001b[36m0:00:00\u001b[0m\n",
            "\u001b[?25h"
          ]
        }
      ]
    },
    {
      "cell_type": "code",
      "execution_count": 9,
      "metadata": {
        "id": "aePV2bdfDeoW"
      },
      "outputs": [],
      "source": [
        "from google.adk.agents import Agent\n",
        "from google.adk.runners import Runner\n",
        "from google.adk.sessions import InMemorySessionService\n",
        "from google.adk.tools import google_search\n",
        "from google.genai import types  # Para criar conteúdos (Content e Part)\n",
        "from datetime import date\n",
        "import textwrap # Para formatar melhor a saída de texto\n",
        "from IPython.display import display, Markdown # Para exibir texto formatado no Colab\n",
        "import requests # Para fazer requisições HTTP\n",
        "import warnings\n",
        "\n",
        "warnings.filterwarnings(\"ignore\")"
      ]
    },
    {
      "cell_type": "code",
      "source": [
        "# Função auxiliar que envia uma mensagem para um agente via Runner e retorna a resposta final\n",
        "def call_agent(agent: Agent, message_text: str) -> str:\n",
        "    # Cria um serviço de sessão em memória\n",
        "    session_service = InMemorySessionService()\n",
        "    # Cria uma nova sessão (você pode personalizar os IDs conforme necessário)\n",
        "    session = session_service.create_session(app_name=agent.name, user_id=\"user1\", session_id=\"session1\")\n",
        "    # Cria um Runner para o agente\n",
        "    runner = Runner(agent=agent, app_name=agent.name, session_service=session_service)\n",
        "    # Cria o conteúdo da mensagem de entrada\n",
        "    content = types.Content(role=\"user\", parts=[types.Part(text=message_text)])\n",
        "\n",
        "    final_response = \"\"\n",
        "    # Itera assincronamente pelos eventos retornados durante a execução do agente\n",
        "    for event in runner.run(user_id=\"user1\", session_id=\"session1\", new_message=content):\n",
        "        if event.is_final_response():\n",
        "          for part in event.content.parts:\n",
        "            if part.text is not None:\n",
        "              final_response += part.text\n",
        "              final_response += \"\\n\"\n",
        "    return final_response"
      ],
      "metadata": {
        "id": "_xP4lWhsS5ko"
      },
      "execution_count": 15,
      "outputs": []
    },
    {
      "cell_type": "code",
      "source": [
        "# Função auxiliar para exibir texto formatado em Markdown no Colab\n",
        "def to_markdown(text):\n",
        "  text = text.replace('•', '  *')\n",
        "  return Markdown(textwrap.indent(text, '> ', predicate=lambda _: True))"
      ],
      "metadata": {
        "id": "8dosiodaxfFR"
      },
      "execution_count": 14,
      "outputs": []
    },
    {
      "cell_type": "code",
      "source": [
        "##########################################\n",
        "# --- Agente 1: Agente Tradutor --- #\n",
        "##########################################\n",
        "\n",
        "def agente_tradutor(topico):\n",
        "\n",
        "  tradutor = Agent(\n",
        "    name = \"agente_tradutor\",\n",
        "    model = \"gemini-2.0-flash\",\n",
        "    instruction = \"\"\"\n",
        "    Você é um tradutor da língua portuguesa para a inglesa. A sua tarefa é usar a ferramenta de tradução do google(google_search)\n",
        "    para traduzir o tópico fornecido. Retone apenas as palavras chave, sem outros textos auxiliares.\n",
        "    \"\"\",\n",
        "    description = \"Agente tradutor Português - Inglês\",\n",
        "    tools = [google_search]\n",
        "  )\n",
        "\n",
        "  entrada_do_agente_tradutor =   f\"Tópico:{topico}\\n\"\n",
        "\n",
        "  traducao = call_agent(tradutor, entrada_do_agente_tradutor)\n",
        "  return traducao"
      ],
      "metadata": {
        "id": "o8bqIfi_DyH8"
      },
      "execution_count": 96,
      "outputs": []
    },
    {
      "cell_type": "code",
      "source": [
        "################################################\n",
        "# --- Agente 2: Planejador de posts --- #\n",
        "################################################\n",
        "def agente_pesquisador(lancamentos_traduzidos):\n",
        "    pesquisador = Agent(\n",
        "        name=\"agente_pesquisador\",\n",
        "#        model=\"gemini-2.5-pro-preview-03-25\",\n",
        "        model = \"gemini-2.0-flash\",\n",
        "        # Inserir as instruções do Agente Planejador #################################################\n",
        "        instruction=\"\"\"\n",
        "        Você é um pesquisador muito experiente e trabalha com divulgação científica de ciências em nível fundamental e médio. Você deve:\n",
        "        usar a ferramenta de busca do Google (google_search, google-scholar, google-acadêmico) para listar 5 fatos curiosos, surpreendentes e inesperados sobre o tópico inserido.\n",
        "        As informações podem ser históricas, com comprovação científica. Pelo menos um fato deve relacionar com matemática. Pelo menos um fato deve relacionar com astronomia.\n",
        "        Pelo menos um fato deve relacionar com medicina. Pelo menos um fato deve relacionar com botânica. Pelo menos um dos fatos deve relacionar com o Brasil.\n",
        "        Apresente as referências pelo nome do autor e revista de publicação em uma frase em linguagem cotidiana.\n",
        "        Apresente apenas informações com alto grau de confiabildiade. Pesquise em portais acadêmicos. Considere fontes científicas e revisadas.\n",
        "        \"\"\",\n",
        "        description=\"Agente que pesquisa posts\",\n",
        "        tools=[google_search]\n",
        "    )\n",
        "\n",
        "    entrada_do_agente_pesquisador = f\"Lançamentos buscados:{lancamentos_traduzidos}\"\n",
        "    # Executa o agente\n",
        "    pesquisa = call_agent(pesquisador, entrada_do_agente_pesquisador)\n",
        "    return pesquisa"
      ],
      "metadata": {
        "id": "y3VO1uo5_ghO"
      },
      "execution_count": 97,
      "outputs": []
    },
    {
      "cell_type": "code",
      "source": [
        "######################################\n",
        "# --- Agente 3: Redator do Post --- #\n",
        "######################################\n",
        "def agente_redator(topico, plano_de_post):\n",
        "    redator = Agent(\n",
        "        name=\"agente_redator\",\n",
        "#        model=\"gemini-2.5-pro-preview-03-25\",\n",
        "        model = \"gemini-2.0-flash\",\n",
        "        instruction=\"\"\"\n",
        "            Você é um Redator Criativo especializado em criar posts virais para redes sociais.\n",
        "            Você escreve posts para o portal national geographic, o portal mais conceitado de divulgação científica do mundo.\n",
        "            Seja responsável com a fonte original.\n",
        "            Utilize o tema fornecido no plano de post e os pontos mais relevantes fornecidos e, com base nisso,\n",
        "            escreva um rascunho de post para Instagram sobre o tema indicado.\n",
        "            O post deve ser engajador, informativo, com linguagem simples e incluir 2 a 4 hashtags no final.\n",
        "            \"\"\",\n",
        "        description=\"Agente redator de posts engajadores para Instagram\"\n",
        "    )\n",
        "    entrada_do_agente_redator = f\"Tópico: {topico}\\nPlano de post: {plano_de_post}\"\n",
        "    # Executa o agente\n",
        "    rascunho = call_agent(redator, entrada_do_agente_redator)\n",
        "    return rascunho"
      ],
      "metadata": {
        "id": "uOqlg2TRLVh1"
      },
      "execution_count": 98,
      "outputs": []
    },
    {
      "cell_type": "code",
      "source": [
        "##########################################\n",
        "# --- Agente 4: Revisor de Qualidade --- #\n",
        "##########################################\n",
        "def agente_revisor(topico, rascunho_gerado):\n",
        "    revisor = Agent(\n",
        "        name=\"agente_revisor\",\n",
        "#        model=\"gemini-2.5-pro-preview-03-25\",\n",
        "        model = \"gemini-2.0-flash\",\n",
        "        instruction=\"\"\"\n",
        "            Você é um Editor e Revisor de Conteúdo meticuloso, especializado em posts para redes sociais, com foco no Instagram.\n",
        "            Por ter um público jovem, entre 18 e 30 anos, use um tom de escrita adequado.\n",
        "            Revise o rascunho de post de Instagram abaixo sobre o tópico indicado, verificando clareza, concisão, correção, tom e confiabilidade.\n",
        "            Apresente as referências para texto ficar mais compreensivo ou retire-as.\n",
        "            Se o rascunho estiver bom, responda apenas 'O rascunho está ótimo e pronto para publicar!'.\n",
        "            Caso haja problemas, aponte-os e sugira melhorias.\n",
        "            \"\"\",\n",
        "        description=\"Agente revisor de post para redes sociais.\"\n",
        "    )\n",
        "    entrada_do_agente_revisor = f\"Tópico: {topico}\\nRascunho: {rascunho_gerado}\"\n",
        "    # Executa o agente\n",
        "    texto_revisado = call_agent(revisor, entrada_do_agente_revisor)\n",
        "    return texto_revisado"
      ],
      "metadata": {
        "id": "_aTb1SdkLeT6"
      },
      "execution_count": 99,
      "outputs": []
    },
    {
      "cell_type": "code",
      "source": [
        "#data_de_hoje = date.today().strftime(\"%d/%m/%Y\")\n",
        "\n",
        "print(\"🚀 Iniciando o Sistema de Curiosidades de ciências que usamos no dia a dia 🚀\")\n",
        "\n",
        "# --- Obter o Tópico do Usuário ---\n",
        "topico = input(\"❓ Por favor, sobre o qual tópico ou assunto deseja saber sobre ciência: \").strip().lower()\n",
        "\n",
        "#print(\"\\n--- \"+topico+\" ---\\n\")\n",
        "\n",
        "# Inserir lógica do sistema de agentes ################################################\n",
        "if not topico:\n",
        "  print(\"Você esqueceu de digitar o tópico!\")\n",
        "else:\n",
        "  print(f\"Maravilha! Vamos então criar o post sobre ciências e o tópico: {topico}\")\n",
        "\n",
        "\n",
        "  lancamentos_traduzidos = agente_tradutor(topico)\n",
        "  print(\"\\n--- Resultados do Agente 1 (Tradutor) ---\\n\")\n",
        "  display(to_markdown(lancamentos_traduzidos))\n",
        "  print(\"-----------------------------------------------\")\n",
        "\n",
        "  plano_de_pesquisa = agente_pesquisador(lancamentos_traduzidos)\n",
        "  print(\"\\n--- Resultados do Agente 2 (Pesquisador) ---\\n\")\n",
        "  display(to_markdown(plano_de_pesquisa))\n",
        "  print(\"-----------------------------------------------\")\n",
        "\n",
        "  rascunho_de_post = agente_redator(topico, plano_de_pesquisa)\n",
        "  print(\"\\n--- Resultados do Agente 3 (Redator) ---\\n\")\n",
        "  display(to_markdown(rascunho_de_post))\n",
        "  print(\"-----------------------------------------------\")\n",
        "\n",
        "  post_final = agente_revisor(topico, rascunho_de_post)\n",
        "  print(\"\\n--- Resultados do Agente 4 (Revisor) ---\\n\")\n",
        "  display(to_markdown(post_final))\n",
        "  print(\"-----------------------------------------------\")\n"
      ],
      "metadata": {
        "id": "630ummxz4myx",
        "colab": {
          "base_uri": "https://localhost:8080/",
          "height": 1000
        },
        "outputId": "842147cc-e253-43fe-d56f-5627de6bc043"
      },
      "execution_count": 101,
      "outputs": [
        {
          "output_type": "stream",
          "name": "stdout",
          "text": [
            "🚀 Iniciando o Sistema de Curiosidades de ciências que usamos no dia a dia 🚀\n",
            "❓ Por favor, sobre o qual tópico ou assunto deseja saber sobre ciência: gripe espanhola no Brasil\n",
            "Maravilha! Vamos então criar o post sobre ciências e o tópico: gripe espanhola no brasil\n",
            "\n",
            "--- Resultados do Agente 1 (Tradutor) ---\n",
            "\n"
          ]
        },
        {
          "output_type": "display_data",
          "data": {
            "text/plain": [
              "<IPython.core.display.Markdown object>"
            ],
            "text/markdown": "> Spanish flu in Brazil\n> \n"
          },
          "metadata": {}
        },
        {
          "output_type": "stream",
          "name": "stdout",
          "text": [
            "-----------------------------------------------\n",
            "\n",
            "--- Resultados do Agente 2 (Pesquisador) ---\n",
            "\n"
          ]
        },
        {
          "output_type": "display_data",
          "data": {
            "text/plain": [
              "<IPython.core.display.Markdown object>"
            ],
            "text/markdown": "> Certo, aqui estão 5 fatos curiosos, surpreendentes e inesperados sobre a gripe espanhola no Brasil, com referências e links para mais informações:\n> \n> \n> Aqui estão 5 fatos curiosos, surpreendentes e inesperados sobre a gripe espanhola no Brasil:\n> \n> 1.  **A \"espanhola\" que veio de longe:** A gripe espanhola, ironicamente, não surgiu na Espanha. Embora a imprensa espanhola tenha sido a primeira a noticiar abertamente a pandemia (já que a Espanha não estava envolvida na Primeira Guerra Mundial e, portanto, não censurava a imprensa), a origem exata da doença é incerta. Algumas teorias apontam para os Estados Unidos ou até mesmo para a China (Fonte: Brasil Escola).\n> 2.  **Um presidente eleito, mas não empossado:** Rodrigues Alves, que havia sido eleito presidente do Brasil em 1918, faleceu em decorrência da gripe espanhola antes de tomar posse para seu segundo mandato. Isso demonstra o impacto devastador da doença, que não poupou nem mesmo as figuras mais importantes do país (Fonte: Revista RBAC).\n> 3.  **Matemática da propagação:** A disseminação da gripe espanhola no Brasil (e no mundo) durante o verão e o outono foi peculiar, já que a gripe geralmente piora durante o inverno. A segunda onda da doença se espalhou de forma quase geométrica a partir de setembro de 1918 (Fonte: ISSN 1678-0817 Qualis B2). A modelagem matemática tem sido usada para entender a dinâmica de epidemias como a gripe espanhola (Fonte: CEE Fiocruz).\n> 4.  **A caipirinha como \"remédio\":** Em meio ao caos e à falta de tratamentos eficazes, surgiram diversas \"curas\" populares. Uma delas, curiosamente, foi a caipirinha. Acredita-se que a combinação de limão, cachaça e açúcar era vista como uma forma de prevenção e alívio dos sintomas (Fonte: BBC News Brasil).\n> 5.  **O isolamento que dividiu opiniões:** Assim como na pandemia de COVID-19, as medidas de isolamento social adotadas durante a gripe espanhola geraram polêmica. A revista \"Careta\" da época chegou a classificar as medidas como uma \"ditadura científica\", mostrando que o debate sobre o equilíbrio entre saúde pública e liberdade individual não é novo (Fonte: BBC News Brasil).\n> 6.  **Astronomia e a origem da palavra \"influenza\":** No início, quando a astronomia detinha o conhecimento, a palavra \"influenza\" surgiu da crença de que a doença era causada pela influência das estrelas (Fonte: Scielo).\n> \n> Espero que esses fatos tenham sido interessantes e informativos!\n> \n"
          },
          "metadata": {}
        },
        {
          "output_type": "stream",
          "name": "stdout",
          "text": [
            "-----------------------------------------------\n",
            "\n",
            "--- Resultados do Agente 3 (Redator) ---\n",
            "\n"
          ]
        },
        {
          "output_type": "display_data",
          "data": {
            "text/plain": [
              "<IPython.core.display.Markdown object>"
            ],
            "text/markdown": "> Prepare-se para uma viagem no tempo! 🕰️ Hoje, vamos desvendar 5 fatos surpreendentes sobre a gripe espanhola no Brasil. Uma pandemia que marcou nossa história de maneira inesperada.\n> \n> ➡️ A gripe \"espanhola\" não era da Espanha! 🇪🇸❌ Apesar do nome, a origem é incerta, com teorias que apontam para os EUA ou China. A Espanha apenas noticiou abertamente, já que não estava na guerra.\n> \n> ➡️ Um presidente vitimado antes de assumir! 🇧🇷 Rodrigues Alves, eleito em 1918, faleceu devido à gripe antes de ser empossado. Imaginem o impacto disso no país!\n> \n> ➡️ Matemática da propagação! 📈 A gripe se espalhou de forma avassaladora durante o verão e outono, desafiando o padrão sazonal das gripes. Modelos matemáticos ajudam a entender essa dinâmica.\n> \n> ➡️ Caipirinha como \"remédio\"? 🍹 Sim! Em meio ao caos, a caipirinha ganhou fama como forma de prevenção e alívio dos sintomas. Quem diria, hein?\n> \n> ➡️ Isolamento polêmico! 隔离 As medidas de isolamento dividiram opiniões, com críticas e debates acalorados, assim como vimos na pandemia de COVID-19. A história se repete?\n> \n> Curioso, né? A história da gripe espanhola no Brasil é cheia de reviravoltas e aprendizados. Compartilhe este post e espalhe conhecimento! 😉\n> \n> #GripeEspanhola #HistóriaDoBrasil #CuriosidadesHistóricas #Pandemias\n"
          },
          "metadata": {}
        },
        {
          "output_type": "stream",
          "name": "stdout",
          "text": [
            "-----------------------------------------------\n",
            "\n",
            "--- Resultados do Agente 4 (Revisor) ---\n",
            "\n"
          ]
        },
        {
          "output_type": "display_data",
          "data": {
            "text/plain": [
              "<IPython.core.display.Markdown object>"
            ],
            "text/markdown": "> O rascunho está ótimo, mas podemos fazer alguns ajustes para deixá-lo ainda mais interessante e informativo para o público do Instagram:\n> \n> **Problemas e sugestões:**\n> \n> *   **Tom:** O tom geral está bom, mas podemos adicionar um pouco mais de impacto para engajar o público.\n> *   **Informações adicionais:** Podemos enriquecer alguns fatos com detalhes extras.\n> \n> **Rascunho revisado:**\n> \n> Prepare-se para uma viagem no tempo! 🕰️ Hoje, vamos desvendar 5 fatos chocantes sobre a gripe espanhola no Brasil. Uma pandemia que mudou nossa história para sempre!\n> \n> ➡️ A gripe \"espanhola\" não era da Espanha! 🇪🇸❌ Que plot twist! A origem é incerta, mas rolam teorias que apontam para os EUA ou China. A Espanha só noticiou primeiro porque não estava na guerra. 🤯\n> \n> ➡️ Um presidente derrubado antes de começar! 🇧🇷 Rodrigues Alves, eleito em 1918, morreu de gripe antes de ser empossado. Já pensou no caos que isso gerou no país?! 😱\n> \n> ➡️ A matemática do caos! 📈 A gripe se espalhou MUITO rápido no verão e outono, quebrando o padrão das gripes. Cientistas usam modelos matemáticos até hoje para entender como isso aconteceu. 🦠\n> \n> ➡️ Caipirinha, o \"remédio\" brazuca? 🍹 Bizarro, mas real! A caipirinha virou hit como prevenção e alívio dos sintomas. Vai encarar? 😂\n> \n> ➡️ Isolamento: ontem e hoje! 隔离 As medidas de isolamento causaram polêmica, com gente a favor e contra, igualzinho na pandemia de COVID-19. A história rima? 🤔\n> \n> Bateu a curiosidade? A história da gripe espanhola no Brasil é cheia de surpresas e lições. Compartilhe este post e mostre que história também é notícia! 😉\n> \n> #GripeEspanhola #HistóriaDoBrasil #CuriosidadesHistóricas #Pandemias #Brasil #Curiosidades\n"
          },
          "metadata": {}
        },
        {
          "output_type": "stream",
          "name": "stdout",
          "text": [
            "-----------------------------------------------\n"
          ]
        }
      ]
    }
  ]
}
